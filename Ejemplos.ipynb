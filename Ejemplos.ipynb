{
 "cells": [
  {
   "cell_type": "markdown",
   "metadata": {
    "id": "AHn_3JSYStvc"
   },
   "source": [
    "#Métodos algorítmico óptimos entre programación dinámica, divide y vencerás, y algoritmos voraces.#\n",
    "Alumno:José Gabriel Ovalle Dzul"
   ]
  },
  {
   "cell_type": "code",
   "execution_count": null,
   "metadata": {
    "colab": {
     "base_uri": "https://localhost:8080/"
    },
    "id": "SSZYgaQwJKTT",
    "outputId": "f0bc6e07-5db6-4fdb-cd41-2f7a7ff3570a"
   },
   "outputs": [
    {
     "name": "stdout",
     "output_type": "stream",
     "text": [
      "[5, 3, 4, 6, 7, 8, 9, 1, 2]\n",
      "[6, 7, 2, 1, 9, 5, 3, 4, 8]\n",
      "[1, 9, 8, 3, 4, 2, 5, 6, 7]\n",
      "[8, 5, 9, 7, 6, 1, 4, 2, 3]\n",
      "[4, 2, 6, 8, 5, 3, 7, 9, 1]\n",
      "[7, 1, 3, 9, 2, 4, 8, 5, 6]\n",
      "[9, 6, 1, 5, 3, 7, 2, 8, 4]\n",
      "[2, 8, 7, 4, 1, 9, 6, 3, 5]\n",
      "[3, 4, 5, 2, 8, 6, 1, 7, 9]\n"
     ]
    }
   ],
   "source": [
    "#Programación dinámica#\n",
    "def es_valido(tablero, fila, col, num):\n",
    "    for i in range(9):\n",
    "        if tablero[fila][i] == num:\n",
    "            return False\n",
    "    for i in range(9):\n",
    "        if tablero[i][col] == num:\n",
    "            return False\n",
    "    #bloque 3x3\n",
    "    start_fila = (fila // 3) * 3\n",
    "    start_col = (col // 3) * 3\n",
    "    for i in range(start_fila, start_fila + 3):\n",
    "        for j in range(start_col, start_col + 3):\n",
    "            if tablero[i][j] == num:\n",
    "                return False\n",
    "    return True\n",
    "\n",
    "def resolver_sudoku(tablero):\n",
    "    for fila in range(9):\n",
    "        for col in range(9):\n",
    "            if tablero[fila][col] == 0:  # Celda vacía\n",
    "                for num in range(1, 10):  # Probar números del 1 al 9\n",
    "                    if es_valido(tablero, fila, col, num):\n",
    "                        tablero[fila][col] = num\n",
    "                        if resolver_sudoku(tablero):\n",
    "                            return True\n",
    "                        tablero[fila][col] = 0\n",
    "                return False\n",
    "    return True\n",
    "\n",
    "# Tablero de Sudoku\n",
    "sudoku = [\n",
    "    [5, 3, 0, 0, 7, 0, 0, 0, 0],\n",
    "    [6, 0, 0, 1, 9, 5, 0, 0, 0],\n",
    "    [0, 9, 8, 0, 0, 0, 0, 6, 0],\n",
    "    [8, 0, 0, 0, 6, 0, 0, 0, 3],\n",
    "    [4, 0, 0, 8, 0, 3, 0, 0, 1],\n",
    "    [7, 0, 0, 0, 2, 0, 0, 0, 6],\n",
    "    [0, 6, 0, 0, 0, 0, 2, 8, 0],\n",
    "    [0, 0, 0, 4, 1, 9, 0, 0, 5],\n",
    "    [0, 0, 0, 0, 8, 0, 0, 7, 9]\n",
    "]\n",
    "\n",
    "resolver_sudoku(sudoku)\n",
    "for fila in sudoku:\n",
    "    print(fila)\n",
    "\n"
   ]
  },
  {
   "cell_type": "code",
   "execution_count": null,
   "metadata": {
    "colab": {
     "base_uri": "https://localhost:8080/"
    },
    "id": "1QLSG3H_SQFy",
    "outputId": "c9886101-1753-44b2-d5e6-36aafdd24a78"
   },
   "outputs": [
    {
     "name": "stdout",
     "output_type": "stream",
     "text": [
      "[5, 3, 4, 6, 7, 8, 9, 1, 2]\n",
      "[6, 7, 2, 1, 9, 5, 3, 4, 8]\n",
      "[1, 9, 8, 3, 4, 2, 5, 6, 7]\n",
      "[8, 5, 9, 7, 6, 1, 4, 2, 3]\n",
      "[4, 2, 6, 8, 5, 3, 7, 9, 1]\n",
      "[7, 1, 3, 9, 2, 4, 8, 5, 6]\n",
      "[9, 6, 1, 5, 3, 7, 2, 8, 4]\n",
      "[2, 8, 7, 4, 1, 9, 6, 3, 5]\n",
      "[3, 4, 5, 2, 8, 6, 1, 7, 9]\n"
     ]
    }
   ],
   "source": [
    "#Divide y vencerás#\n",
    "def es_valido_en_bloque(tablero, fila, col, num):\n",
    "    start_fila = (fila // 3) * 3\n",
    "    start_col = (col // 3) * 3\n",
    "    for i in range(start_fila, start_fila + 3):\n",
    "        for j in range(start_col, start_col + 3):\n",
    "            if tablero[i][j] == num:\n",
    "                return False\n",
    "    return True\n",
    "\n",
    "#Divide y Vencerás\n",
    "def resolver_sudoku_dv(tablero):\n",
    "    def resolver_subcuadricula(fila, col):\n",
    "        if col == 9:\n",
    "            col = 0\n",
    "            fila += 1\n",
    "        if fila == 9:\n",
    "            return True\n",
    "        if tablero[fila][col] == 0:\n",
    "            for num in range(1, 10):\n",
    "                if es_valido(tablero, fila, col, num) and es_valido_en_bloque(tablero, fila, col, num):\n",
    "                    tablero[fila][col] = num\n",
    "                    if resolver_subcuadricula(fila, col + 1):\n",
    "                        return True\n",
    "                    tablero[fila][col] = 0\n",
    "            return False\n",
    "        return resolver_subcuadricula(fila, col + 1)\n",
    "\n",
    "    resolver_subcuadricula(0, 0)\n",
    "\n",
    "# Tablero de Sudoku\n",
    "sudoku = [\n",
    "    [5, 3, 0, 0, 7, 0, 0, 0, 0],\n",
    "    [6, 0, 0, 1, 9, 5, 0, 0, 0],\n",
    "    [0, 9, 8, 0, 0, 0, 0, 6, 0],\n",
    "    [8, 0, 0, 0, 6, 0, 0, 0, 3],\n",
    "    [4, 0, 0, 8, 0, 3, 0, 0, 1],\n",
    "    [7, 0, 0, 0, 2, 0, 0, 0, 6],\n",
    "    [0, 6, 0, 0, 0, 0, 2, 8, 0],\n",
    "    [0, 0, 0, 4, 1, 9, 0, 0, 5],\n",
    "    [0, 0, 0, 0, 8, 0, 0, 7, 9]\n",
    "]\n",
    "\n",
    "resolver_sudoku_dv(sudoku)\n",
    "for fila in sudoku:\n",
    "    print(fila)\n"
   ]
  },
  {
   "cell_type": "code",
   "execution_count": null,
   "metadata": {
    "colab": {
     "base_uri": "https://localhost:8080/"
    },
    "id": "fLf2zLUJTIAw",
    "outputId": "d80595f8-9f8b-434e-c051-fd87defd7d49"
   },
   "outputs": [
    {
     "name": "stdout",
     "output_type": "stream",
     "text": [
      "[5, 3, 4, 6, 7, 8, 9, 1, 2]\n",
      "[6, 7, 2, 1, 9, 5, 3, 4, 8]\n",
      "[1, 9, 8, 3, 4, 2, 5, 6, 7]\n",
      "[8, 5, 9, 7, 6, 1, 4, 2, 3]\n",
      "[4, 2, 6, 8, 5, 3, 7, 9, 1]\n",
      "[7, 1, 3, 9, 2, 4, 8, 5, 6]\n",
      "[9, 6, 1, 5, 3, 7, 2, 8, 4]\n",
      "[2, 8, 7, 4, 1, 9, 6, 3, 5]\n",
      "[3, 4, 5, 2, 8, 6, 1, 7, 9]\n"
     ]
    }
   ],
   "source": [
    "#Algoritmos voraces#\n",
    "def es_valido(tablero, fila, col, num):\n",
    "    for i in range(9):\n",
    "        if tablero[fila][i] == num:\n",
    "            return False\n",
    "    for i in range(9):\n",
    "        if tablero[i][col] == num:\n",
    "            return False\n",
    "    start_fila = (fila // 3) * 3\n",
    "    start_col = (col // 3) * 3\n",
    "    for i in range(start_fila, start_fila + 3):\n",
    "        for j in range(start_col, start_col + 3):\n",
    "            if tablero[i][j] == num:\n",
    "                return False\n",
    "    return True\n",
    "\n",
    "def encontrar_celda_con_menor_opciones(tablero):\n",
    "    mejor_fila, mejor_col = -1, -1\n",
    "    min_opciones = 10\n",
    "\n",
    "    for fila in range(9):\n",
    "        for col in range(9):\n",
    "            if tablero[fila][col] == 0:  # Celda vacía\n",
    "                opciones = 0\n",
    "                for num in range(1, 10):\n",
    "                    if es_valido(tablero, fila, col, num):\n",
    "                        opciones += 1\n",
    "                if opciones < min_opciones:\n",
    "                    min_opciones = opciones\n",
    "                    mejor_fila, mejor_col = fila, col\n",
    "    return mejor_fila, mejor_col\n",
    "\n",
    "# algoritmo voraz\n",
    "def resolver_sudoku_voraz_mejorado(tablero):\n",
    "    fila, col = encontrar_celda_con_menor_opciones(tablero)\n",
    "\n",
    "    if fila == -1:\n",
    "        return True  # Sudoku resuelto\n",
    "\n",
    "    for num in range(1, 10):\n",
    "        if es_valido(tablero, fila, col, num):\n",
    "            tablero[fila][col] = num\n",
    "            if resolver_sudoku_voraz_mejorado(tablero):\n",
    "                return True\n",
    "            tablero[fila][col] = 0\n",
    "    return False\n",
    "\n",
    "sudoku = [\n",
    "    [5, 3, 0, 0, 7, 0, 0, 0, 0],\n",
    "    [6, 0, 0, 1, 9, 5, 0, 0, 0],\n",
    "    [0, 9, 8, 0, 0, 0, 0, 6, 0],\n",
    "    [8, 0, 0, 0, 6, 0, 0, 0, 3],\n",
    "    [4, 0, 0, 8, 0, 3, 0, 0, 1],\n",
    "    [7, 0, 0, 0, 2, 0, 0, 0, 6],\n",
    "    [0, 6, 0, 0, 0, 0, 2, 8, 0],\n",
    "    [0, 0, 0, 4, 1, 9, 0, 0, 5],\n",
    "    [0, 0, 0, 0, 8, 0, 0, 7, 9]\n",
    "]\n",
    "\n",
    "resolver_sudoku_voraz_mejorado(sudoku)\n",
    "\n",
    "for fila in sudoku:\n",
    "    print(fila)\n"
   ]
  }
 ],
 "metadata": {
  "colab": {
   "provenance": []
  },
  "kernelspec": {
   "display_name": "Python 3",
   "name": "python3"
  },
  "language_info": {
   "name": "python"
  }
 },
 "nbformat": 4,
 "nbformat_minor": 0
}
